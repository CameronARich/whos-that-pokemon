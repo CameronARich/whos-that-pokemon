{
 "cells": [
  {
   "cell_type": "markdown",
   "metadata": {},
   "source": [
    "# Who's That Pokémon? - CSCI 450 Computer Vision and Machine Learning Project\n",
    "\n",
    "## Introduction\n",
    "\n",
    "This project aims to classify Pokémon images using traditional computer vision and machine learning techniques (not neural networks, as per project requirements). We will explore how well different sklearn computer vision methods can match Pokémon and compare the performance of these methods.\n",
    "\n",
    "### Dataset\n",
    "\n",
    "The dataset contains ~40 images per 1,000 Pokémon species, with each image resized to 128x128 pixels and stored as a PNG file. The data is structured in subdirectories for each class.\n",
    "\n",
    "- Total images: 26,539\n",
    "- Total classes: 1,000\n",
    "- Size: ~407MB\n",
    "\n",
    "### Project Goals\n",
    "\n",
    "1. Evaluate how well sklearn computer vision methods can match Pokémon\n",
    "2. Compare different methods in terms of accuracy\n",
    "3. Analyze how generational differences affect these methods"
   ]
  },
  {
   "cell_type": "code",
   "execution_count": null,
   "metadata": {},
   "outputs": [],
   "source": [
    "# Import required libraries\n",
    "import os\n",
    "import numpy as np\n",
    "import pandas as pd\n",
    "import matplotlib.pyplot as plt\n",
    "from PIL import Image\n",
    "from sklearn.model_selection import train_test_split\n",
    "from sklearn.preprocessing import StandardScaler\n",
    "from sklearn import metrics"
   ]
  },
  {
   "cell_type": "markdown",
   "metadata": {},
   "source": [
    "## 1. Data Exploration\n",
    "\n",
    "Let's first explore the structure of our dataset and visualize some examples."
   ]
  },
  {
   "cell_type": "code",
   "execution_count": null,
   "metadata": {},
   "outputs": [],
   "source": [
    "# Load the metadata\n",
    "metadata_path = '../../data/kaggle_data/metadata.csv'\n",
    "metadata = pd.read_csv(metadata_path)\n",
    "\n",
    "# Display basic information about the metadata\n",
    "print(f\"Metadata shape: {metadata.shape}\")\n",
    "print(\"\\nFirst few rows of metadata:\")\n",
    "metadata.head()"
   ]
  },
  {
   "cell_type": "code",
   "execution_count": null,
   "metadata": {},
   "outputs": [],
   "source": [
    "# Count the number of unique Pokémon (classes)\n",
    "unique_pokemon = metadata['label'].unique()\n",
    "print(f\"Number of unique Pokémon: {len(unique_pokemon)}\")\n",
    "\n",
    "# Count images per Pokémon and display distribution\n",
    "pokemon_counts = metadata['label'].value_counts()\n",
    "print(f\"\\nAverage images per Pokémon: {pokemon_counts.mean():.2f}\")\n",
    "print(f\"Min images for a Pokémon: {pokemon_counts.min()}\")\n",
    "print(f\"Max images for a Pokémon: {pokemon_counts.max()}\")\n",
    "\n",
    "# Plot distribution of images per Pokémon\n",
    "plt.figure(figsize=(10, 6))\n",
    "plt.hist(pokemon_counts, bins=30)\n",
    "plt.title('Distribution of Images per Pokémon')\n",
    "plt.xlabel('Number of Images')\n",
    "plt.ylabel('Number of Pokémon Classes')\n",
    "plt.grid(alpha=0.3)\n",
    "plt.show()"
   ]
  },
  {
   "cell_type": "code",
   "execution_count": null,
   "metadata": {},
   "outputs": [],
   "source": [
    "# Function to load and display some example images\n",
    "def display_pokemon_examples(pokemon_name, num_examples=5):\n",
    "    # Get paths for this Pokémon\n",
    "    pokemon_data = metadata[metadata['label'] == pokemon_name]\n",
    "    sample_paths = pokemon_data['image_path'].sample(min(num_examples, len(pokemon_data))).values\n",
    "    \n",
    "    # Set up the plot\n",
    "    fig, axes = plt.subplots(1, len(sample_paths), figsize=(15, 3))\n",
    "    if len(sample_paths) == 1:\n",
    "        axes = [axes]\n",
    "    \n",
    "    # Load and display each image\n",
    "    for i, path in enumerate(sample_paths):\n",
    "        img_path = os.path.join('../../data/kaggle_data', path)\n",
    "        if os.path.exists(img_path):\n",
    "            img = Image.open(img_path)\n",
    "            axes[i].imshow(img)\n",
    "            axes[i].set_title(f\"{pokemon_name} #{i+1}\")\n",
    "            axes[i].axis('off')\n",
    "        else:\n",
    "            print(f\"Image not found: {img_path}\")\n",
    "    \n",
    "    plt.tight_layout()\n",
    "    plt.show()\n",
    "\n",
    "# Display examples of a few different Pokémon\n",
    "pokemon_examples = unique_pokemon[:3]  # First 3 Pokémon in the dataset\n",
    "for pokemon in pokemon_examples:\n",
    "    print(f\"\\nExamples of {pokemon}:\")\n",
    "    display_pokemon_examples(pokemon)"
   ]
  },
  {
   "cell_type": "markdown",
   "metadata": {},
   "source": [
    "## 2. Feature Extraction\n",
    "\n",
    "Let's implement and test different feature extraction methods for the Pokémon images. We'll explore:\n",
    "\n",
    "1. Color histograms\n",
    "2. HOG (Histogram of Oriented Gradients) features\n",
    "3. Image hashing\n",
    "4. SIFT (Scale-Invariant Feature Transform) descriptors\n",
    "\n",
    "First, let's implement a color histogram extraction function."
   ]
  },
  {
   "cell_type": "code",
   "execution_count": null,
   "metadata": {},
   "outputs": [],
   "source": [
    "# Function to extract color histograms from an image\n",
    "def extract_color_histogram(image_path, bins=32):\n",
    "    try:\n",
    "        # Load the image\n",
    "        img = Image.open(image_path)\n",
    "        \n",
    "        # Convert to RGB if needed\n",
    "        if img.mode != 'RGB':\n",
    "            img = img.convert('RGB')\n",
    "            \n",
    "        # Convert to numpy array\n",
    "        img_array = np.array(img)\n",
    "        \n",
    "        # Extract histograms for each channel\n",
    "        hist_r, _ = np.histogram(img_array[:,:,0].flatten(), bins=bins, range=(0, 256))\n",
    "        hist_g, _ = np.histogram(img_array[:,:,1].flatten(), bins=bins, range=(0, 256))\n",
    "        hist_b, _ = np.histogram(img_array[:,:,2].flatten(), bins=bins, range=(0, 256))\n",
    "        \n",
    "        # Concatenate the histograms\n",
    "        hist_features = np.concatenate([hist_r, hist_g, hist_b])\n",
    "        \n",
    "        # Normalize the histogram\n",
    "        hist_features = hist_features.astype('float')\n",
    "        hist_features /= (hist_features.sum() + 1e-7)  # Add small value to avoid division by zero\n",
    "        \n",
    "        return hist_features\n",
    "    except Exception as e:\n",
    "        print(f\"Error processing {image_path}: {e}\")\n",
    "        return None"
   ]
  },
  {
   "cell_type": "markdown",
   "metadata": {},
   "source": [
    "## 3. Next Steps\n",
    "\n",
    "In the next sections, we'll implement:\n",
    "\n",
    "1. Complete feature extraction for all images using different methods\n",
    "2. Train various machine learning classifiers (e.g., SVM, Random Forest, KNN) on the extracted features\n",
    "3. Evaluate and compare the performance of different classifiers\n",
    "4. Analyze how well each method works for different generations of Pokémon\n",
    "5. Visualize and interpret the results"
   ]
  }
 ],
 "metadata": {
  "kernelspec": {
   "display_name": "venv",
   "language": "python",
   "name": "python3"
  },
  "language_info": {
   "codemirror_mode": {
    "name": "ipython",
    "version": 3
   },
   "file_extension": ".py",
   "mimetype": "text/x-python",
   "name": "python",
   "nbconvert_exporter": "python",
   "pygments_lexer": "ipython3",
   "version": "3.12.9"
  }
 },
 "nbformat": 4,
 "nbformat_minor": 4
}
